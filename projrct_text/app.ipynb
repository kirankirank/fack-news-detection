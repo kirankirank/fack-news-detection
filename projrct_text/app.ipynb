{
 "cells": [
  {
   "cell_type": "code",
   "execution_count": 4,
   "id": "fa6059a6",
   "metadata": {},
   "outputs": [
    {
     "name": "stderr",
     "output_type": "stream",
     "text": [
      "C:\\Users\\kiran\\anaconda3\\envs\\yourenvname\\lib\\site-packages\\sklearn\\base.py:329: UserWarning: Trying to unpickle estimator LogisticRegression from version 1.0.2 when using version 0.23.2. This might lead to breaking code or invalid results. Use at your own risk.\n",
      "  warnings.warn(\n"
     ]
    },
    {
     "name": "stdout",
     "output_type": "stream",
     "text": [
      " * Serving Flask app '__main__'\n",
      " * Debug mode: on\n"
     ]
    },
    {
     "name": "stderr",
     "output_type": "stream",
     "text": [
      "WARNING: This is a development server. Do not use it in a production deployment. Use a production WSGI server instead.\n",
      " * Running on http://127.0.0.1:5000\n",
      "Press CTRL+C to quit\n",
      " * Restarting with stat\n"
     ]
    },
    {
     "ename": "SystemExit",
     "evalue": "1",
     "output_type": "error",
     "traceback": [
      "An exception has occurred, use %tb to see the full traceback.\n",
      "\u001b[1;31mSystemExit\u001b[0m\u001b[1;31m:\u001b[0m 1\n"
     ]
    },
    {
     "name": "stderr",
     "output_type": "stream",
     "text": [
      "C:\\Users\\kiran\\anaconda3\\envs\\yourenvname\\lib\\site-packages\\IPython\\core\\interactiveshell.py:3406: UserWarning: To exit: use 'exit', 'quit', or Ctrl-D.\n",
      "  warn(\"To exit: use 'exit', 'quit', or Ctrl-D.\", stacklevel=1)\n"
     ]
    }
   ],
   "source": [
    "from flask import Flask,render_template, request\n",
    "import pickle\n",
    "import nltk\n",
    "import pandas\n",
    "from sklearn.linear_model import PassiveAggressiveClassifier\n",
    "from sklearn.feature_extraction.text import TfidfVectorizer \n",
    "data = pandas.read_csv('C:/Users/kiran/Desktop/projrct_text/all_ok.csv')\n",
    "lr = pickle.load(open(\"pred.pkl\", \"rb\"))\n",
    "tfidf = TfidfVectorizer()\n",
    "tfidf.fit(data['title'])\n",
    "from nltk.stem import WordNetLemmatizer\n",
    "lem = WordNetLemmatizer()\n",
    "def sen_pre(sen):\n",
    "    perfect_sen = []\n",
    "    sent = re.sub(\"[^A-Za-z\" \"]+\", \" \", str(sen)).lower()\n",
    "    sentence = word_tokenize(sent)\n",
    "    for a in sentence:\n",
    "        if len(a) >= 3:\n",
    "            word = lem.lemmatize(a) \n",
    "            perfect_sen.append(word)       \n",
    "    return perfect_sen  \n",
    "app = Flask(__name__)\n",
    "@app.route('/')\n",
    "def starting():\n",
    "    return render_template(\"index_text.html\")\n",
    "@app.route(\"/predict\", methods = [\"POST\", \"GET\"])\n",
    "def predict():\n",
    "    if request.method == \"POST\":\n",
    "        message = request.form[\"message\"]\n",
    "        message = sen_pre(message)\n",
    "        tfidf_sen = tfidf.transform(message)\n",
    "        output = lr.predict(tfidf_sen)\n",
    "    else:\n",
    "        return render_template('index_text.html', prediction=\"Something went wrong\")   \n",
    "    return render_template(\"index_text.html\", pred = output)    \n",
    "if __name__ == '__main__':\n",
    "    app.run(debug=True)\n",
    "\n"
   ]
  }
 ],
 "metadata": {
  "kernelspec": {
   "display_name": "Python 3 (ipykernel)",
   "language": "python",
   "name": "python3"
  },
  "language_info": {
   "codemirror_mode": {
    "name": "ipython",
    "version": 3
   },
   "file_extension": ".py",
   "mimetype": "text/x-python",
   "name": "python",
   "nbconvert_exporter": "python",
   "pygments_lexer": "ipython3",
   "version": "3.8.13"
  }
 },
 "nbformat": 4,
 "nbformat_minor": 5
}
